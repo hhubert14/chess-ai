{
  "nbformat": 4,
  "nbformat_minor": 0,
  "metadata": {
    "colab": {
      "provenance": [],
      "machine_shape": "hm",
      "gpuType": "L4",
      "authorship_tag": "ABX9TyMY5tsmo1sDePcA5cR+j3Jy",
      "include_colab_link": true
    },
    "kernelspec": {
      "name": "python3",
      "display_name": "Python 3"
    },
    "language_info": {
      "name": "python"
    },
    "widgets": {
      "application/vnd.jupyter.widget-state+json": {
        "42da5dd8f2f74cae8a2384f9840aff26": {
          "model_module": "@jupyter-widgets/controls",
          "model_name": "HBoxModel",
          "model_module_version": "1.5.0",
          "state": {
            "_dom_classes": [],
            "_model_module": "@jupyter-widgets/controls",
            "_model_module_version": "1.5.0",
            "_model_name": "HBoxModel",
            "_view_count": null,
            "_view_module": "@jupyter-widgets/controls",
            "_view_module_version": "1.5.0",
            "_view_name": "HBoxView",
            "box_style": "",
            "children": [
              "IPY_MODEL_d3fdc2db5d044cc58bd24146b1980abb",
              "IPY_MODEL_06722730269c4ba8b2c84ed211904bb4",
              "IPY_MODEL_29b6254634eb4eeea78951fa06abd76b"
            ],
            "layout": "IPY_MODEL_db11d99b8b8b4df6b2e5631b6b1c636c"
          }
        },
        "d3fdc2db5d044cc58bd24146b1980abb": {
          "model_module": "@jupyter-widgets/controls",
          "model_name": "HTMLModel",
          "model_module_version": "1.5.0",
          "state": {
            "_dom_classes": [],
            "_model_module": "@jupyter-widgets/controls",
            "_model_module_version": "1.5.0",
            "_model_name": "HTMLModel",
            "_view_count": null,
            "_view_module": "@jupyter-widgets/controls",
            "_view_module_version": "1.5.0",
            "_view_name": "HTMLView",
            "description": "",
            "description_tooltip": null,
            "layout": "IPY_MODEL_d453b91a6e7e4a92a1eb0d8c71fafbcb",
            "placeholder": "​",
            "style": "IPY_MODEL_b785c4795bf643c8bba0c9e384e4580a",
            "value": ""
          }
        },
        "06722730269c4ba8b2c84ed211904bb4": {
          "model_module": "@jupyter-widgets/controls",
          "model_name": "FloatProgressModel",
          "model_module_version": "1.5.0",
          "state": {
            "_dom_classes": [],
            "_model_module": "@jupyter-widgets/controls",
            "_model_module_version": "1.5.0",
            "_model_name": "FloatProgressModel",
            "_view_count": null,
            "_view_module": "@jupyter-widgets/controls",
            "_view_module_version": "1.5.0",
            "_view_name": "ProgressView",
            "bar_style": "success",
            "description": "",
            "description_tooltip": null,
            "layout": "IPY_MODEL_d539ab55861d43e783f50057f53d3180",
            "max": 1,
            "min": 0,
            "orientation": "horizontal",
            "style": "IPY_MODEL_186d713326044a149918fb1db4099020",
            "value": 1
          }
        },
        "29b6254634eb4eeea78951fa06abd76b": {
          "model_module": "@jupyter-widgets/controls",
          "model_name": "HTMLModel",
          "model_module_version": "1.5.0",
          "state": {
            "_dom_classes": [],
            "_model_module": "@jupyter-widgets/controls",
            "_model_module_version": "1.5.0",
            "_model_name": "HTMLModel",
            "_view_count": null,
            "_view_module": "@jupyter-widgets/controls",
            "_view_module_version": "1.5.0",
            "_view_name": "HTMLView",
            "description": "",
            "description_tooltip": null,
            "layout": "IPY_MODEL_1ccacaf7af5d4aa99e3216f215443d98",
            "placeholder": "​",
            "style": "IPY_MODEL_5514e40ba60649e293fba1ded4de3ae5",
            "value": " 4840/? [10:29&lt;00:00,  7.69it/s]"
          }
        },
        "db11d99b8b8b4df6b2e5631b6b1c636c": {
          "model_module": "@jupyter-widgets/base",
          "model_name": "LayoutModel",
          "model_module_version": "1.2.0",
          "state": {
            "_model_module": "@jupyter-widgets/base",
            "_model_module_version": "1.2.0",
            "_model_name": "LayoutModel",
            "_view_count": null,
            "_view_module": "@jupyter-widgets/base",
            "_view_module_version": "1.2.0",
            "_view_name": "LayoutView",
            "align_content": null,
            "align_items": null,
            "align_self": null,
            "border": null,
            "bottom": null,
            "display": null,
            "flex": null,
            "flex_flow": null,
            "grid_area": null,
            "grid_auto_columns": null,
            "grid_auto_flow": null,
            "grid_auto_rows": null,
            "grid_column": null,
            "grid_gap": null,
            "grid_row": null,
            "grid_template_areas": null,
            "grid_template_columns": null,
            "grid_template_rows": null,
            "height": null,
            "justify_content": null,
            "justify_items": null,
            "left": null,
            "margin": null,
            "max_height": null,
            "max_width": null,
            "min_height": null,
            "min_width": null,
            "object_fit": null,
            "object_position": null,
            "order": null,
            "overflow": null,
            "overflow_x": null,
            "overflow_y": null,
            "padding": null,
            "right": null,
            "top": null,
            "visibility": null,
            "width": null
          }
        },
        "d453b91a6e7e4a92a1eb0d8c71fafbcb": {
          "model_module": "@jupyter-widgets/base",
          "model_name": "LayoutModel",
          "model_module_version": "1.2.0",
          "state": {
            "_model_module": "@jupyter-widgets/base",
            "_model_module_version": "1.2.0",
            "_model_name": "LayoutModel",
            "_view_count": null,
            "_view_module": "@jupyter-widgets/base",
            "_view_module_version": "1.2.0",
            "_view_name": "LayoutView",
            "align_content": null,
            "align_items": null,
            "align_self": null,
            "border": null,
            "bottom": null,
            "display": null,
            "flex": null,
            "flex_flow": null,
            "grid_area": null,
            "grid_auto_columns": null,
            "grid_auto_flow": null,
            "grid_auto_rows": null,
            "grid_column": null,
            "grid_gap": null,
            "grid_row": null,
            "grid_template_areas": null,
            "grid_template_columns": null,
            "grid_template_rows": null,
            "height": null,
            "justify_content": null,
            "justify_items": null,
            "left": null,
            "margin": null,
            "max_height": null,
            "max_width": null,
            "min_height": null,
            "min_width": null,
            "object_fit": null,
            "object_position": null,
            "order": null,
            "overflow": null,
            "overflow_x": null,
            "overflow_y": null,
            "padding": null,
            "right": null,
            "top": null,
            "visibility": null,
            "width": null
          }
        },
        "b785c4795bf643c8bba0c9e384e4580a": {
          "model_module": "@jupyter-widgets/controls",
          "model_name": "DescriptionStyleModel",
          "model_module_version": "1.5.0",
          "state": {
            "_model_module": "@jupyter-widgets/controls",
            "_model_module_version": "1.5.0",
            "_model_name": "DescriptionStyleModel",
            "_view_count": null,
            "_view_module": "@jupyter-widgets/base",
            "_view_module_version": "1.2.0",
            "_view_name": "StyleView",
            "description_width": ""
          }
        },
        "d539ab55861d43e783f50057f53d3180": {
          "model_module": "@jupyter-widgets/base",
          "model_name": "LayoutModel",
          "model_module_version": "1.2.0",
          "state": {
            "_model_module": "@jupyter-widgets/base",
            "_model_module_version": "1.2.0",
            "_model_name": "LayoutModel",
            "_view_count": null,
            "_view_module": "@jupyter-widgets/base",
            "_view_module_version": "1.2.0",
            "_view_name": "LayoutView",
            "align_content": null,
            "align_items": null,
            "align_self": null,
            "border": null,
            "bottom": null,
            "display": null,
            "flex": null,
            "flex_flow": null,
            "grid_area": null,
            "grid_auto_columns": null,
            "grid_auto_flow": null,
            "grid_auto_rows": null,
            "grid_column": null,
            "grid_gap": null,
            "grid_row": null,
            "grid_template_areas": null,
            "grid_template_columns": null,
            "grid_template_rows": null,
            "height": null,
            "justify_content": null,
            "justify_items": null,
            "left": null,
            "margin": null,
            "max_height": null,
            "max_width": null,
            "min_height": null,
            "min_width": null,
            "object_fit": null,
            "object_position": null,
            "order": null,
            "overflow": null,
            "overflow_x": null,
            "overflow_y": null,
            "padding": null,
            "right": null,
            "top": null,
            "visibility": null,
            "width": "20px"
          }
        },
        "186d713326044a149918fb1db4099020": {
          "model_module": "@jupyter-widgets/controls",
          "model_name": "ProgressStyleModel",
          "model_module_version": "1.5.0",
          "state": {
            "_model_module": "@jupyter-widgets/controls",
            "_model_module_version": "1.5.0",
            "_model_name": "ProgressStyleModel",
            "_view_count": null,
            "_view_module": "@jupyter-widgets/base",
            "_view_module_version": "1.2.0",
            "_view_name": "StyleView",
            "bar_color": null,
            "description_width": ""
          }
        },
        "1ccacaf7af5d4aa99e3216f215443d98": {
          "model_module": "@jupyter-widgets/base",
          "model_name": "LayoutModel",
          "model_module_version": "1.2.0",
          "state": {
            "_model_module": "@jupyter-widgets/base",
            "_model_module_version": "1.2.0",
            "_model_name": "LayoutModel",
            "_view_count": null,
            "_view_module": "@jupyter-widgets/base",
            "_view_module_version": "1.2.0",
            "_view_name": "LayoutView",
            "align_content": null,
            "align_items": null,
            "align_self": null,
            "border": null,
            "bottom": null,
            "display": null,
            "flex": null,
            "flex_flow": null,
            "grid_area": null,
            "grid_auto_columns": null,
            "grid_auto_flow": null,
            "grid_auto_rows": null,
            "grid_column": null,
            "grid_gap": null,
            "grid_row": null,
            "grid_template_areas": null,
            "grid_template_columns": null,
            "grid_template_rows": null,
            "height": null,
            "justify_content": null,
            "justify_items": null,
            "left": null,
            "margin": null,
            "max_height": null,
            "max_width": null,
            "min_height": null,
            "min_width": null,
            "object_fit": null,
            "object_position": null,
            "order": null,
            "overflow": null,
            "overflow_x": null,
            "overflow_y": null,
            "padding": null,
            "right": null,
            "top": null,
            "visibility": null,
            "width": null
          }
        },
        "5514e40ba60649e293fba1ded4de3ae5": {
          "model_module": "@jupyter-widgets/controls",
          "model_name": "DescriptionStyleModel",
          "model_module_version": "1.5.0",
          "state": {
            "_model_module": "@jupyter-widgets/controls",
            "_model_module_version": "1.5.0",
            "_model_name": "DescriptionStyleModel",
            "_view_count": null,
            "_view_module": "@jupyter-widgets/base",
            "_view_module_version": "1.2.0",
            "_view_name": "StyleView",
            "description_width": ""
          }
        }
      }
    },
    "accelerator": "GPU"
  },
  "cells": [
    {
      "cell_type": "markdown",
      "metadata": {
        "id": "view-in-github",
        "colab_type": "text"
      },
      "source": [
        "<a href=\"https://colab.research.google.com/github/hhubert14/chess-ai/blob/main/chess_model.ipynb\" target=\"_parent\"><img src=\"https://colab.research.google.com/assets/colab-badge.svg\" alt=\"Open In Colab\"/></a>"
      ]
    },
    {
      "cell_type": "code",
      "source": [
        "!pip install datasets\n",
        "# !pip install --upgrade torch torchvision torchaudio --index-url https://download.pytorch.org/whl/cu118\n",
        "# !pip install transformers==4.38.0\n",
        "!pip install --upgrade transformers\n",
        "!pip install --upgrade peft"
      ],
      "metadata": {
        "id": "uP9YyXDKbd3r",
        "colab": {
          "base_uri": "https://localhost:8080/"
        },
        "outputId": "50a7f61a-a7ce-4eaf-b968-cff1bce29e40"
      },
      "execution_count": 1,
      "outputs": [
        {
          "output_type": "stream",
          "name": "stdout",
          "text": [
            "Collecting datasets\n",
            "  Downloading datasets-3.2.0-py3-none-any.whl.metadata (20 kB)\n",
            "Requirement already satisfied: filelock in /usr/local/lib/python3.10/dist-packages (from datasets) (3.16.1)\n",
            "Requirement already satisfied: numpy>=1.17 in /usr/local/lib/python3.10/dist-packages (from datasets) (1.26.4)\n",
            "Requirement already satisfied: pyarrow>=15.0.0 in /usr/local/lib/python3.10/dist-packages (from datasets) (17.0.0)\n",
            "Collecting dill<0.3.9,>=0.3.0 (from datasets)\n",
            "  Downloading dill-0.3.8-py3-none-any.whl.metadata (10 kB)\n",
            "Requirement already satisfied: pandas in /usr/local/lib/python3.10/dist-packages (from datasets) (2.2.2)\n",
            "Requirement already satisfied: requests>=2.32.2 in /usr/local/lib/python3.10/dist-packages (from datasets) (2.32.3)\n",
            "Requirement already satisfied: tqdm>=4.66.3 in /usr/local/lib/python3.10/dist-packages (from datasets) (4.67.1)\n",
            "Collecting xxhash (from datasets)\n",
            "  Downloading xxhash-3.5.0-cp310-cp310-manylinux_2_17_x86_64.manylinux2014_x86_64.whl.metadata (12 kB)\n",
            "Collecting multiprocess<0.70.17 (from datasets)\n",
            "  Downloading multiprocess-0.70.16-py310-none-any.whl.metadata (7.2 kB)\n",
            "Collecting fsspec<=2024.9.0,>=2023.1.0 (from fsspec[http]<=2024.9.0,>=2023.1.0->datasets)\n",
            "  Downloading fsspec-2024.9.0-py3-none-any.whl.metadata (11 kB)\n",
            "Requirement already satisfied: aiohttp in /usr/local/lib/python3.10/dist-packages (from datasets) (3.11.10)\n",
            "Requirement already satisfied: huggingface-hub>=0.23.0 in /usr/local/lib/python3.10/dist-packages (from datasets) (0.27.0)\n",
            "Requirement already satisfied: packaging in /usr/local/lib/python3.10/dist-packages (from datasets) (24.2)\n",
            "Requirement already satisfied: pyyaml>=5.1 in /usr/local/lib/python3.10/dist-packages (from datasets) (6.0.2)\n",
            "Requirement already satisfied: aiohappyeyeballs>=2.3.0 in /usr/local/lib/python3.10/dist-packages (from aiohttp->datasets) (2.4.4)\n",
            "Requirement already satisfied: aiosignal>=1.1.2 in /usr/local/lib/python3.10/dist-packages (from aiohttp->datasets) (1.3.2)\n",
            "Requirement already satisfied: async-timeout<6.0,>=4.0 in /usr/local/lib/python3.10/dist-packages (from aiohttp->datasets) (4.0.3)\n",
            "Requirement already satisfied: attrs>=17.3.0 in /usr/local/lib/python3.10/dist-packages (from aiohttp->datasets) (24.3.0)\n",
            "Requirement already satisfied: frozenlist>=1.1.1 in /usr/local/lib/python3.10/dist-packages (from aiohttp->datasets) (1.5.0)\n",
            "Requirement already satisfied: multidict<7.0,>=4.5 in /usr/local/lib/python3.10/dist-packages (from aiohttp->datasets) (6.1.0)\n",
            "Requirement already satisfied: propcache>=0.2.0 in /usr/local/lib/python3.10/dist-packages (from aiohttp->datasets) (0.2.1)\n",
            "Requirement already satisfied: yarl<2.0,>=1.17.0 in /usr/local/lib/python3.10/dist-packages (from aiohttp->datasets) (1.18.3)\n",
            "Requirement already satisfied: typing-extensions>=3.7.4.3 in /usr/local/lib/python3.10/dist-packages (from huggingface-hub>=0.23.0->datasets) (4.12.2)\n",
            "Requirement already satisfied: charset-normalizer<4,>=2 in /usr/local/lib/python3.10/dist-packages (from requests>=2.32.2->datasets) (3.4.0)\n",
            "Requirement already satisfied: idna<4,>=2.5 in /usr/local/lib/python3.10/dist-packages (from requests>=2.32.2->datasets) (3.10)\n",
            "Requirement already satisfied: urllib3<3,>=1.21.1 in /usr/local/lib/python3.10/dist-packages (from requests>=2.32.2->datasets) (2.2.3)\n",
            "Requirement already satisfied: certifi>=2017.4.17 in /usr/local/lib/python3.10/dist-packages (from requests>=2.32.2->datasets) (2024.12.14)\n",
            "Requirement already satisfied: python-dateutil>=2.8.2 in /usr/local/lib/python3.10/dist-packages (from pandas->datasets) (2.8.2)\n",
            "Requirement already satisfied: pytz>=2020.1 in /usr/local/lib/python3.10/dist-packages (from pandas->datasets) (2024.2)\n",
            "Requirement already satisfied: tzdata>=2022.7 in /usr/local/lib/python3.10/dist-packages (from pandas->datasets) (2024.2)\n",
            "Requirement already satisfied: six>=1.5 in /usr/local/lib/python3.10/dist-packages (from python-dateutil>=2.8.2->pandas->datasets) (1.17.0)\n",
            "Downloading datasets-3.2.0-py3-none-any.whl (480 kB)\n",
            "\u001b[2K   \u001b[90m━━━━━━━━━━━━━━━━━━━━━━━━━━━━━━━━━━━━━━━━\u001b[0m \u001b[32m480.6/480.6 kB\u001b[0m \u001b[31m31.9 MB/s\u001b[0m eta \u001b[36m0:00:00\u001b[0m\n",
            "\u001b[?25hDownloading dill-0.3.8-py3-none-any.whl (116 kB)\n",
            "\u001b[2K   \u001b[90m━━━━━━━━━━━━━━━━━━━━━━━━━━━━━━━━━━━━━━━━\u001b[0m \u001b[32m116.3/116.3 kB\u001b[0m \u001b[31m10.4 MB/s\u001b[0m eta \u001b[36m0:00:00\u001b[0m\n",
            "\u001b[?25hDownloading fsspec-2024.9.0-py3-none-any.whl (179 kB)\n",
            "\u001b[2K   \u001b[90m━━━━━━━━━━━━━━━━━━━━━━━━━━━━━━━━━━━━━━━━\u001b[0m \u001b[32m179.3/179.3 kB\u001b[0m \u001b[31m12.9 MB/s\u001b[0m eta \u001b[36m0:00:00\u001b[0m\n",
            "\u001b[?25hDownloading multiprocess-0.70.16-py310-none-any.whl (134 kB)\n",
            "\u001b[2K   \u001b[90m━━━━━━━━━━━━━━━━━━━━━━━━━━━━━━━━━━━━━━━━\u001b[0m \u001b[32m134.8/134.8 kB\u001b[0m \u001b[31m10.2 MB/s\u001b[0m eta \u001b[36m0:00:00\u001b[0m\n",
            "\u001b[?25hDownloading xxhash-3.5.0-cp310-cp310-manylinux_2_17_x86_64.manylinux2014_x86_64.whl (194 kB)\n",
            "\u001b[2K   \u001b[90m━━━━━━━━━━━━━━━━━━━━━━━━━━━━━━━━━━━━━━━━\u001b[0m \u001b[32m194.1/194.1 kB\u001b[0m \u001b[31m15.3 MB/s\u001b[0m eta \u001b[36m0:00:00\u001b[0m\n",
            "\u001b[?25hInstalling collected packages: xxhash, fsspec, dill, multiprocess, datasets\n",
            "  Attempting uninstall: fsspec\n",
            "    Found existing installation: fsspec 2024.10.0\n",
            "    Uninstalling fsspec-2024.10.0:\n",
            "      Successfully uninstalled fsspec-2024.10.0\n",
            "\u001b[31mERROR: pip's dependency resolver does not currently take into account all the packages that are installed. This behaviour is the source of the following dependency conflicts.\n",
            "gcsfs 2024.10.0 requires fsspec==2024.10.0, but you have fsspec 2024.9.0 which is incompatible.\u001b[0m\u001b[31m\n",
            "\u001b[0mSuccessfully installed datasets-3.2.0 dill-0.3.8 fsspec-2024.9.0 multiprocess-0.70.16 xxhash-3.5.0\n",
            "Requirement already satisfied: transformers in /usr/local/lib/python3.10/dist-packages (4.47.1)\n",
            "Requirement already satisfied: filelock in /usr/local/lib/python3.10/dist-packages (from transformers) (3.16.1)\n",
            "Requirement already satisfied: huggingface-hub<1.0,>=0.24.0 in /usr/local/lib/python3.10/dist-packages (from transformers) (0.27.0)\n",
            "Requirement already satisfied: numpy>=1.17 in /usr/local/lib/python3.10/dist-packages (from transformers) (1.26.4)\n",
            "Requirement already satisfied: packaging>=20.0 in /usr/local/lib/python3.10/dist-packages (from transformers) (24.2)\n",
            "Requirement already satisfied: pyyaml>=5.1 in /usr/local/lib/python3.10/dist-packages (from transformers) (6.0.2)\n",
            "Requirement already satisfied: regex!=2019.12.17 in /usr/local/lib/python3.10/dist-packages (from transformers) (2024.11.6)\n",
            "Requirement already satisfied: requests in /usr/local/lib/python3.10/dist-packages (from transformers) (2.32.3)\n",
            "Requirement already satisfied: tokenizers<0.22,>=0.21 in /usr/local/lib/python3.10/dist-packages (from transformers) (0.21.0)\n",
            "Requirement already satisfied: safetensors>=0.4.1 in /usr/local/lib/python3.10/dist-packages (from transformers) (0.4.5)\n",
            "Requirement already satisfied: tqdm>=4.27 in /usr/local/lib/python3.10/dist-packages (from transformers) (4.67.1)\n",
            "Requirement already satisfied: fsspec>=2023.5.0 in /usr/local/lib/python3.10/dist-packages (from huggingface-hub<1.0,>=0.24.0->transformers) (2024.9.0)\n",
            "Requirement already satisfied: typing-extensions>=3.7.4.3 in /usr/local/lib/python3.10/dist-packages (from huggingface-hub<1.0,>=0.24.0->transformers) (4.12.2)\n",
            "Requirement already satisfied: charset-normalizer<4,>=2 in /usr/local/lib/python3.10/dist-packages (from requests->transformers) (3.4.0)\n",
            "Requirement already satisfied: idna<4,>=2.5 in /usr/local/lib/python3.10/dist-packages (from requests->transformers) (3.10)\n",
            "Requirement already satisfied: urllib3<3,>=1.21.1 in /usr/local/lib/python3.10/dist-packages (from requests->transformers) (2.2.3)\n",
            "Requirement already satisfied: certifi>=2017.4.17 in /usr/local/lib/python3.10/dist-packages (from requests->transformers) (2024.12.14)\n",
            "Requirement already satisfied: peft in /usr/local/lib/python3.10/dist-packages (0.14.0)\n",
            "Requirement already satisfied: numpy>=1.17 in /usr/local/lib/python3.10/dist-packages (from peft) (1.26.4)\n",
            "Requirement already satisfied: packaging>=20.0 in /usr/local/lib/python3.10/dist-packages (from peft) (24.2)\n",
            "Requirement already satisfied: psutil in /usr/local/lib/python3.10/dist-packages (from peft) (5.9.5)\n",
            "Requirement already satisfied: pyyaml in /usr/local/lib/python3.10/dist-packages (from peft) (6.0.2)\n",
            "Requirement already satisfied: torch>=1.13.0 in /usr/local/lib/python3.10/dist-packages (from peft) (2.5.1+cu121)\n",
            "Requirement already satisfied: transformers in /usr/local/lib/python3.10/dist-packages (from peft) (4.47.1)\n",
            "Requirement already satisfied: tqdm in /usr/local/lib/python3.10/dist-packages (from peft) (4.67.1)\n",
            "Requirement already satisfied: accelerate>=0.21.0 in /usr/local/lib/python3.10/dist-packages (from peft) (1.2.1)\n",
            "Requirement already satisfied: safetensors in /usr/local/lib/python3.10/dist-packages (from peft) (0.4.5)\n",
            "Requirement already satisfied: huggingface-hub>=0.25.0 in /usr/local/lib/python3.10/dist-packages (from peft) (0.27.0)\n",
            "Requirement already satisfied: filelock in /usr/local/lib/python3.10/dist-packages (from huggingface-hub>=0.25.0->peft) (3.16.1)\n",
            "Requirement already satisfied: fsspec>=2023.5.0 in /usr/local/lib/python3.10/dist-packages (from huggingface-hub>=0.25.0->peft) (2024.9.0)\n",
            "Requirement already satisfied: requests in /usr/local/lib/python3.10/dist-packages (from huggingface-hub>=0.25.0->peft) (2.32.3)\n",
            "Requirement already satisfied: typing-extensions>=3.7.4.3 in /usr/local/lib/python3.10/dist-packages (from huggingface-hub>=0.25.0->peft) (4.12.2)\n",
            "Requirement already satisfied: networkx in /usr/local/lib/python3.10/dist-packages (from torch>=1.13.0->peft) (3.4.2)\n",
            "Requirement already satisfied: jinja2 in /usr/local/lib/python3.10/dist-packages (from torch>=1.13.0->peft) (3.1.4)\n",
            "Requirement already satisfied: sympy==1.13.1 in /usr/local/lib/python3.10/dist-packages (from torch>=1.13.0->peft) (1.13.1)\n",
            "Requirement already satisfied: mpmath<1.4,>=1.1.0 in /usr/local/lib/python3.10/dist-packages (from sympy==1.13.1->torch>=1.13.0->peft) (1.3.0)\n",
            "Requirement already satisfied: regex!=2019.12.17 in /usr/local/lib/python3.10/dist-packages (from transformers->peft) (2024.11.6)\n",
            "Requirement already satisfied: tokenizers<0.22,>=0.21 in /usr/local/lib/python3.10/dist-packages (from transformers->peft) (0.21.0)\n",
            "Requirement already satisfied: MarkupSafe>=2.0 in /usr/local/lib/python3.10/dist-packages (from jinja2->torch>=1.13.0->peft) (3.0.2)\n",
            "Requirement already satisfied: charset-normalizer<4,>=2 in /usr/local/lib/python3.10/dist-packages (from requests->huggingface-hub>=0.25.0->peft) (3.4.0)\n",
            "Requirement already satisfied: idna<4,>=2.5 in /usr/local/lib/python3.10/dist-packages (from requests->huggingface-hub>=0.25.0->peft) (3.10)\n",
            "Requirement already satisfied: urllib3<3,>=1.21.1 in /usr/local/lib/python3.10/dist-packages (from requests->huggingface-hub>=0.25.0->peft) (2.2.3)\n",
            "Requirement already satisfied: certifi>=2017.4.17 in /usr/local/lib/python3.10/dist-packages (from requests->huggingface-hub>=0.25.0->peft) (2024.12.14)\n"
          ]
        }
      ]
    },
    {
      "cell_type": "code",
      "source": [
        "!huggingface-cli login"
      ],
      "metadata": {
        "id": "9kFFt464b0fp"
      },
      "execution_count": null,
      "outputs": []
    },
    {
      "cell_type": "code",
      "execution_count": 4,
      "metadata": {
        "colab": {
          "base_uri": "https://localhost:8080/"
        },
        "id": "ArEAKI0Iap_L",
        "outputId": "714d3e55-74e9-47fc-db09-531fc66d8490"
      },
      "outputs": [
        {
          "output_type": "stream",
          "name": "stdout",
          "text": [
            "trainable params: 294,912 || all params: 124,734,720 || trainable%: 0.2364\n",
            "None\n"
          ]
        },
        {
          "output_type": "stream",
          "name": "stderr",
          "text": [
            "The new embeddings will be initialized from a multivariate normal distribution that has old embeddings' mean and covariance. As described in this article: https://nlp.stanford.edu/~johnhew/vocab-expansion.html. To disable this, use `mean_resizing=False`\n"
          ]
        }
      ],
      "source": [
        "from transformers import AutoTokenizer, AutoModelForCausalLM, DataCollatorWithPadding, get_scheduler\n",
        "from datasets import load_dataset\n",
        "from torch.utils.data import DataLoader\n",
        "from torch.optim import AdamW\n",
        "from accelerate.test_utils.testing import get_backend\n",
        "from tqdm.auto import tqdm\n",
        "from peft import LoftQConfig, LoraConfig, get_peft_model\n",
        "from peft import get_peft_model, LoraConfig, TaskType, prepare_model_for_kbit_training\n",
        "\n",
        "import torch\n",
        "\n",
        "# TODO add validation set\n",
        "\n",
        "# Models tested\n",
        "# \"meta-llama/Meta-Llama-3-8B\"\n",
        "# \"google/flan-t5-base\"\n",
        "\n",
        "# Adjustable variables\n",
        "model_name = \"openai-community/gpt2\"\n",
        "batch_size = 5\n",
        "train_dataset_path = \"/content/train_puzzles.csv\"\n",
        "test_dataset_path = \"/content/test_puzzles.csv\"\n",
        "num_epochs = 5\n",
        "learning_rate = 5e-5\n",
        "model_dir = f\"{model_name}_saved\"\n",
        "\n",
        "tokenizer = AutoTokenizer.from_pretrained(model_name)\n",
        "model = AutoModelForCausalLM.from_pretrained(model_name)\n",
        "# model.gradient_checkpointing_enable()\n",
        "# model.half()\n",
        "\n",
        "peft_config = LoraConfig(inference_mode=False, r=8, lora_alpha=32, lora_dropout=0.1, peft_type=TaskType.CAUSAL_LM)\n",
        "model = get_peft_model(model, peft_config)\n",
        "print(model.print_trainable_parameters())\n",
        "\n",
        "\n",
        "# Load datasets in streaming mode\n",
        "train_dataset = load_dataset(\"csv\", data_files={\"full\": train_dataset_path}, streaming=True)[\"full\"]\n",
        "eval_dataset = load_dataset(\"csv\", data_files={\"full\": test_dataset_path}, streaming=True)[\"full\"]\n",
        "\n",
        "# Tokenize dynamically using a collate function\n",
        "tokenizer.add_special_tokens({'pad_token': '[PAD]'})\n",
        "model.resize_token_embeddings(len(tokenizer))\n",
        "tokenizer.pad_token_id = tokenizer.pad_token_id  # Ensure tokenizer uses the same pad token for labels\n",
        "tokenizer.label_pad_token_id = tokenizer.pad_token_id  # Set"
      ]
    },
    {
      "cell_type": "code",
      "source": [
        "def tokenize_batch(batch):\n",
        "    inputs_text = [example[\"inputs\"] for example in batch]\n",
        "    labels_text = [example[\"label\"] for example in batch]\n",
        "\n",
        "    inputs = tokenizer(\n",
        "        inputs_text,\n",
        "        truncation=\"only_first\",\n",
        "        padding=\"max_length\",\n",
        "        max_length=512,\n",
        "        return_tensors=\"pt\",\n",
        "        add_special_tokens=True,\n",
        "        )\n",
        "    labels = tokenizer(\n",
        "        labels_text,\n",
        "        truncation=\"only_first\",\n",
        "        padding=\"max_length\",\n",
        "        max_length=512,\n",
        "        return_tensors=\"pt\",\n",
        "        add_special_tokens=True,\n",
        "        )\n",
        "\n",
        "    inputs[\"labels\"] = labels[\"input_ids\"]\n",
        "\n",
        "    # print(f\"inputs: {inputs}\")\n",
        "    # print(f\"labels: {labels}\")\n",
        "    # print(f\"Inputs shape: {inputs['input_ids'].shape}\")\n",
        "    # print(f\"Labels shape: {labels['input_ids'].shape}\")\n",
        "    return inputs"
      ],
      "metadata": {
        "id": "Z3gq-FCXZ2QK"
      },
      "execution_count": 5,
      "outputs": []
    },
    {
      "cell_type": "code",
      "source": [
        "# DataLoaders\n",
        "train_dataloader = DataLoader(train_dataset, batch_size=batch_size, collate_fn=tokenize_batch)\n",
        "eval_dataloader = DataLoader(eval_dataset, batch_size=batch_size, collate_fn=tokenize_batch)"
      ],
      "metadata": {
        "id": "trxiSeDXZr5v"
      },
      "execution_count": 6,
      "outputs": []
    },
    {
      "cell_type": "code",
      "source": [
        "optimizer = AdamW(model.parameters(), lr=learning_rate)\n",
        "\n",
        "# Scheduler (num_training_steps calculated dynamically)\n",
        "lr_scheduler = get_scheduler(\n",
        "    name=\"linear\", optimizer=optimizer, num_warmup_steps=0, num_training_steps=1  # Placeholder\n",
        ")\n",
        "\n",
        "# Device setup\n",
        "device, _, _ = get_backend()\n",
        "print(f\"Using device: {device}\")\n",
        "model.to(device)"
      ],
      "metadata": {
        "colab": {
          "base_uri": "https://localhost:8080/"
        },
        "id": "B3lM5kHYZtV_",
        "outputId": "2b6f0eab-ceeb-448f-c8a9-13307717aaf3"
      },
      "execution_count": 7,
      "outputs": [
        {
          "output_type": "stream",
          "name": "stdout",
          "text": [
            "Using device: cuda\n"
          ]
        },
        {
          "output_type": "execute_result",
          "data": {
            "text/plain": [
              "PeftModel(\n",
              "  (base_model): LoraModel(\n",
              "    (model): GPT2LMHeadModel(\n",
              "      (transformer): GPT2Model(\n",
              "        (wte): Embedding(50258, 768)\n",
              "        (wpe): Embedding(1024, 768)\n",
              "        (drop): Dropout(p=0.1, inplace=False)\n",
              "        (h): ModuleList(\n",
              "          (0-11): 12 x GPT2Block(\n",
              "            (ln_1): LayerNorm((768,), eps=1e-05, elementwise_affine=True)\n",
              "            (attn): GPT2SdpaAttention(\n",
              "              (c_attn): lora.Linear(\n",
              "                (base_layer): Conv1D(nf=2304, nx=768)\n",
              "                (lora_dropout): ModuleDict(\n",
              "                  (default): Dropout(p=0.1, inplace=False)\n",
              "                )\n",
              "                (lora_A): ModuleDict(\n",
              "                  (default): Linear(in_features=768, out_features=8, bias=False)\n",
              "                )\n",
              "                (lora_B): ModuleDict(\n",
              "                  (default): Linear(in_features=8, out_features=2304, bias=False)\n",
              "                )\n",
              "                (lora_embedding_A): ParameterDict()\n",
              "                (lora_embedding_B): ParameterDict()\n",
              "                (lora_magnitude_vector): ModuleDict()\n",
              "              )\n",
              "              (c_proj): Conv1D(nf=768, nx=768)\n",
              "              (attn_dropout): Dropout(p=0.1, inplace=False)\n",
              "              (resid_dropout): Dropout(p=0.1, inplace=False)\n",
              "            )\n",
              "            (ln_2): LayerNorm((768,), eps=1e-05, elementwise_affine=True)\n",
              "            (mlp): GPT2MLP(\n",
              "              (c_fc): Conv1D(nf=3072, nx=768)\n",
              "              (c_proj): Conv1D(nf=768, nx=3072)\n",
              "              (act): NewGELUActivation()\n",
              "              (dropout): Dropout(p=0.1, inplace=False)\n",
              "            )\n",
              "          )\n",
              "        )\n",
              "        (ln_f): LayerNorm((768,), eps=1e-05, elementwise_affine=True)\n",
              "      )\n",
              "      (lm_head): Linear(in_features=768, out_features=50258, bias=False)\n",
              "    )\n",
              "  )\n",
              ")"
            ]
          },
          "metadata": {},
          "execution_count": 7
        }
      ]
    },
    {
      "cell_type": "code",
      "source": [
        "# Train\n",
        "progress_bar = tqdm(total=None)  # Dynamic progress bar\n",
        "model.train()\n",
        "step_count = 0  # Manually count steps\n",
        "\n",
        "for epoch in range(num_epochs):\n",
        "    print(f\"Epoch: {epoch + 1}/{num_epochs}\")\n",
        "    for batch in train_dataloader:\n",
        "        batch = {k: v.to(device) for k, v in batch.items()}\n",
        "\n",
        "        outputs = model(**batch)\n",
        "        loss = outputs.loss\n",
        "        print(f\"Loss: {loss.item()}\")\n",
        "        loss.backward()\n",
        "\n",
        "        optimizer.step()\n",
        "        lr_scheduler.step()\n",
        "        optimizer.zero_grad()\n",
        "        progress_bar.update(1)\n",
        "\n",
        "        step_count += 1  # Increment step count\n",
        "\n",
        "progress_bar.close()\n",
        "\n",
        "# Update lr_scheduler with actual training steps\n",
        "lr_scheduler = get_scheduler(\n",
        "    name=\"linear\", optimizer=optimizer, num_warmup_steps=0, num_training_steps=step_count\n",
        ")"
      ],
      "metadata": {
        "id": "_S33FodrbFze",
        "colab": {
          "base_uri": "https://localhost:8080/",
          "height": 980,
          "referenced_widgets": [
            "42da5dd8f2f74cae8a2384f9840aff26",
            "d3fdc2db5d044cc58bd24146b1980abb",
            "06722730269c4ba8b2c84ed211904bb4",
            "29b6254634eb4eeea78951fa06abd76b",
            "db11d99b8b8b4df6b2e5631b6b1c636c",
            "d453b91a6e7e4a92a1eb0d8c71fafbcb",
            "b785c4795bf643c8bba0c9e384e4580a",
            "d539ab55861d43e783f50057f53d3180",
            "186d713326044a149918fb1db4099020",
            "1ccacaf7af5d4aa99e3216f215443d98",
            "5514e40ba60649e293fba1ded4de3ae5"
          ]
        },
        "outputId": "aac53869-6ceb-446b-9083-1d8d03ca4254"
      },
      "execution_count": 8,
      "outputs": [
        {
          "output_type": "display_data",
          "data": {
            "text/plain": [
              "0it [00:00, ?it/s]"
            ],
            "application/vnd.jupyter.widget-view+json": {
              "version_major": 2,
              "version_minor": 0,
              "model_id": "42da5dd8f2f74cae8a2384f9840aff26"
            }
          },
          "metadata": {}
        },
        {
          "output_type": "stream",
          "name": "stdout",
          "text": [
            "Epoch: 1/5\n",
            "Epoch: 2/5\n",
            "Epoch: 3/5\n",
            "Epoch: 4/5\n",
            "Epoch: 5/5\n"
          ]
        },
        {
          "output_type": "stream",
          "name": "stderr",
          "text": [
            "The attention mask and the pad token id were not set. As a consequence, you may observe unexpected behavior. Please pass your input's `attention_mask` to obtain reliable results.\n",
            "Setting `pad_token_id` to `eos_token_id`:50256 for open-end generation.\n",
            "The attention mask is not set and cannot be inferred from input because pad token is same as eos token. As a consequence, you may observe unexpected behavior. Please pass your input's `attention_mask` to obtain reliable results.\n"
          ]
        },
        {
          "output_type": "stream",
          "name": "stdout",
          "text": [
            "Input shape: torch.Size([5, 256])\n",
            "Labels shape: torch.Size([5, 256])\n"
          ]
        },
        {
          "output_type": "stream",
          "name": "stderr",
          "text": [
            "The attention mask and the pad token id were not set. As a consequence, you may observe unexpected behavior. Please pass your input's `attention_mask` to obtain reliable results.\n",
            "Setting `pad_token_id` to `eos_token_id`:50256 for open-end generation.\n"
          ]
        },
        {
          "output_type": "stream",
          "name": "stdout",
          "text": [
            "Input shape: torch.Size([5, 256])\n",
            "Labels shape: torch.Size([5, 256])\n"
          ]
        },
        {
          "output_type": "stream",
          "name": "stderr",
          "text": [
            "The attention mask and the pad token id were not set. As a consequence, you may observe unexpected behavior. Please pass your input's `attention_mask` to obtain reliable results.\n",
            "Setting `pad_token_id` to `eos_token_id`:50256 for open-end generation.\n"
          ]
        },
        {
          "output_type": "stream",
          "name": "stdout",
          "text": [
            "Input shape: torch.Size([5, 256])\n",
            "Labels shape: torch.Size([5, 256])\n"
          ]
        },
        {
          "output_type": "stream",
          "name": "stderr",
          "text": [
            "The attention mask and the pad token id were not set. As a consequence, you may observe unexpected behavior. Please pass your input's `attention_mask` to obtain reliable results.\n",
            "Setting `pad_token_id` to `eos_token_id`:50256 for open-end generation.\n"
          ]
        },
        {
          "output_type": "stream",
          "name": "stdout",
          "text": [
            "Input shape: torch.Size([5, 256])\n",
            "Labels shape: torch.Size([5, 256])\n"
          ]
        },
        {
          "output_type": "stream",
          "name": "stderr",
          "text": [
            "The attention mask and the pad token id were not set. As a consequence, you may observe unexpected behavior. Please pass your input's `attention_mask` to obtain reliable results.\n",
            "Setting `pad_token_id` to `eos_token_id`:50256 for open-end generation.\n"
          ]
        },
        {
          "output_type": "stream",
          "name": "stdout",
          "text": [
            "Input shape: torch.Size([5, 256])\n",
            "Labels shape: torch.Size([5, 256])\n"
          ]
        },
        {
          "output_type": "stream",
          "name": "stderr",
          "text": [
            "The attention mask and the pad token id were not set. As a consequence, you may observe unexpected behavior. Please pass your input's `attention_mask` to obtain reliable results.\n",
            "Setting `pad_token_id` to `eos_token_id`:50256 for open-end generation.\n"
          ]
        },
        {
          "output_type": "stream",
          "name": "stdout",
          "text": [
            "Input shape: torch.Size([5, 256])\n",
            "Labels shape: torch.Size([5, 256])\n"
          ]
        },
        {
          "output_type": "stream",
          "name": "stderr",
          "text": [
            "The attention mask and the pad token id were not set. As a consequence, you may observe unexpected behavior. Please pass your input's `attention_mask` to obtain reliable results.\n",
            "Setting `pad_token_id` to `eos_token_id`:50256 for open-end generation.\n"
          ]
        },
        {
          "output_type": "stream",
          "name": "stdout",
          "text": [
            "Input shape: torch.Size([5, 256])\n",
            "Labels shape: torch.Size([5, 256])\n"
          ]
        },
        {
          "output_type": "stream",
          "name": "stderr",
          "text": [
            "The attention mask and the pad token id were not set. As a consequence, you may observe unexpected behavior. Please pass your input's `attention_mask` to obtain reliable results.\n",
            "Setting `pad_token_id` to `eos_token_id`:50256 for open-end generation.\n"
          ]
        },
        {
          "output_type": "stream",
          "name": "stdout",
          "text": [
            "Input shape: torch.Size([5, 256])\n",
            "Labels shape: torch.Size([5, 256])\n"
          ]
        },
        {
          "output_type": "stream",
          "name": "stderr",
          "text": [
            "The attention mask and the pad token id were not set. As a consequence, you may observe unexpected behavior. Please pass your input's `attention_mask` to obtain reliable results.\n",
            "Setting `pad_token_id` to `eos_token_id`:50256 for open-end generation.\n"
          ]
        },
        {
          "output_type": "stream",
          "name": "stdout",
          "text": [
            "Input shape: torch.Size([5, 256])\n",
            "Labels shape: torch.Size([5, 256])\n"
          ]
        },
        {
          "output_type": "stream",
          "name": "stderr",
          "text": [
            "The attention mask and the pad token id were not set. As a consequence, you may observe unexpected behavior. Please pass your input's `attention_mask` to obtain reliable results.\n",
            "Setting `pad_token_id` to `eos_token_id`:50256 for open-end generation.\n"
          ]
        },
        {
          "output_type": "stream",
          "name": "stdout",
          "text": [
            "Input shape: torch.Size([3, 256])\n",
            "Labels shape: torch.Size([3, 256])\n",
            "48\n",
            "[\"Black to move. Position is 5r2/2pk2P1/pp1n4/2p5/4PB2/2P2K2/P1P1R3/8 b - - 0 34. What is the best move? Narrative: The first thing I want to say is that I'm not sure what the best move is. I'm not sure what the best move is. I'm not sure what the best move is. I'm not sure what the best move is. I'm not sure what the best move is. I'm not sure what the best move is. I'm not sure what the best move is. I'm not sure what the best move is. I'm not sure what the best move is. I'm not sure what the best move is. I'm not sure what the best move is. I'm not sure what the best move is. I'm not sure what the best move is. I'm not sure what the best move is. I'm not sure what the best move is. I'm not sure what the best move is. I'm not sure what the best move is. I'm not sure what the best move is. I'm not sure what the best move is. I'm not sure what the best move is. I'm not sure what the best move is. I'm not sure what the best move is. I'm not sure what the best move is. I'm not sure what the best move is. I'm not sure\", 'Black to move. Position is 8/4k1p1/1R5p/8/1Pb4P/5P2/1r4P1/6K1 b - - 0 39. What is the best move? Lastly, I will try to answer your question.\\n\\nReply · Report Post', 'White to move. Position is 6k1/r2bqrpp/2p1pn1Q/pp2BpR1/2PP4/P3PP1P/1P6/2K2BR1 w - - 8 25. What is the best move? Narrative: \"I am the one who is the one who is the one who is the one who is the one who is the one who is the one who is the one who is the one who is the one who is the one who is the one who is the one who is the one who is the one who is the one who is the one who is the one who is the one who is the one who is the one who is the one who is the one who is the one who is the one who is the one who is the one who is the one who is the one who is the one who is the one who is the one who is the one who is the one who is the one who is the one who is the one who is the one who is the one who is the one who is the one who is the one who is the one who is the one who is the one who is the one who is the one who is the one who is the one who is the one who is the one who is the one who is the one who is the one who is the one who is the one who is the one who is the one who is the one who is the one who is the one who is the one who is the one', 'Black to move. Position is r1bq1rk1/ppp1npbp/3p2p1/n7/3NPP2/2NBB3/PPP3PP/R2Q1RK1 b - - 2 10. What is the best move? Narrative: The first thing I want to do is to get the best possible position. I want to get the best possible position. I want to get the best possible position. I want to get the best possible position. I want to get the best possible position. I want to get the best possible position. I want to get the best possible position. I want to get the best possible position. I want to get the best possible position. I want to get the best possible position. I want to get the best possible position. I want to get the best possible position. I want to get the best possible position. I want to get the best possible position. I want to get the best possible position. I want to get the best possible position. I want to get the best possible position. I want to get the best possible position. I want to get the best possible position. I want to get the best possible position. I want to get the best possible position. I want to get the best possible position. I want to get the best possible position. I want to get the best possible position. I want to get the best possible position. I want to get the best possible position. I want to get the best possible position. I want to get', \"White to move. Position is 5k2/pb5p/1p3PBN/6R1/1p6/1P4P1/P5rP/6K1 w - - 3 39. What is the best move? Narrative: The first thing I want to say is that I'm not sure if I'm going to be able to do this. I'm not sure if I'm going to be able to do this. I'm not sure if I'm going to be able to do this. I'm not sure if I'm going to be able to do this. I'm not sure if I'm going to be able to do this. I'm not sure if I'm going to be able to do this. I'm not sure if I'm going to be able to do this. I'm not sure if I'm going to be able to do this. I'm not sure if I'm going to be able to do this. I'm not sure if I'm going to be able to do this. I'm not sure if I'm going to be able to do this. I'm not sure if I'm going to be able to do this. I'm not sure if I'm going to be able to do this. I'm not sure if I'm going to be able to do this. I'm not sure if I'm going to be able to do this. I'm not sure if I'm going to be able to do this. I'm not sure\", 'Black to move. Position is 8/8/4p3/5k2/7p/3nB3/4NPK1/8 b - - 7 63. What is the best move? Lastly, I will try to find the best move for the game. I will try to find the best move for the game. I will try to find the best move for the game. I will try to find the best move for the game. I will try to find the best move for the game. I will try to find the best move for the game. I will try to find the best move for the game. I will try to find the best move for the game. I will try to find the best move for the game. I will try to find the best move for the game. I will try to find the best move for the game. I will try to find the best move for the game. I will try to find the best move for the game. I will try to find the best move for the game. I will try to find the best move for the game. I will try to find the best move for the game. I will try to find the best move for the game. I will try to find the best move for the game. I will try to find the best move for the game. I will try to find the best move for the game. I will try to find the best move for the game. I will', 'White to move. Position is 3r4/5pk1/p1r2b2/1p5R/5Q1P/1B4P1/P2q2P1/5R1K w - - 1 36. What is the best move? Narrative: \"I am the one who is the one who is the one who is the one who is the one who is the one who is the one who is the one who is the one who is the one who is the one who is the one who is the one who is the one who is the one who is the one who is the one who is the one who is the one who is the one who is the one who is the one who is the one who is the one who is the one who is the one who is the one who is the one who is the one who is the one who is the one who is the one who is the one who is the one who is the one who is the one who is the one who is the one who is the one who is the one who is the one who is the one who is the one who is the one who is the one who is the one who is the one who is the one who is the one who is the one who is the one who is the one who is the one who is the one who is the one who is the one who is the one who is the one who is the one who is the one who is the one who is the one who is the one', 'Black to move. Position is RQ6/2b1r3/8/4pB2/8/1K3k2/1P6/8 b - - 0 53. What is the best move? Lastly, I will try to answer your question.\\n\\nReply · Report Post', 'Black to move. Position is rnbqkb1r/pppppppp/5n2/8/2PP4/8/PP2PPPP/RNBQKBNR b KQkq - 0 2. What is the best move? Narrative: \"I am the one who is the one who is the one who is the one who is the one who is the one who is the one who is the one who is the one who is the one who is the one who is the one who is the one who is the one who is the one who is the one who is the one who is the one who is the one who is the one who is the one who is the one who is the one who is the one who is the one who is the one who is the one who is the one who is the one who is the one who is the one who is the one who is the one who is the one who is the one who is the one who is the one who is the one who is the one who is the one who is the one who is the one who is the one who is the one who is the one who is the one who is the one who is the one who is the one who is the one who is the one who is the one who is the one who is the one who is the one who is the one who is the one who is the one who is the one who is the one who is the one who is the one who is the one', 'Black to move. Position is 8/5pk1/p4q2/2pB1r1p/P1Pb2p1/6P1/7P/3QR2K b - - 0 36. What is the best move? Narrative: The first thing I want to do is to get the best possible position. I want to get the best possible position. I want to get the best possible position. I want to get the best possible position. I want to get the best possible position. I want to get the best possible position. I want to get the best possible position. I want to get the best possible position. I want to get the best possible position. I want to get the best possible position. I want to get the best possible position. I want to get the best possible position. I want to get the best possible position. I want to get the best possible position. I want to get the best possible position. I want to get the best possible position. I want to get the best possible position. I want to get the best possible position. I want to get the best possible position. I want to get the best possible position. I want to get the best possible position. I want to get the best possible position. I want to get the best possible position. I want to get the best possible position. I want to get the best possible position. I want to get the best possible position. I want to get the best possible position. I want to get', 'Black to move. Position is r4rk1/p2q1pp1/2pb1n2/3p1b2/7p/1PN1P1P1/PB2BP1P/R2QR1K1 b - - 1 16. What is the best move? Narrative: The game is about the player who is the most important. The player who is the most important is the player who is the most important. Narrative: The game is about the player who is the most important. Narrative: The game is about the player who is the most important. Narrative: The game is about the player who is the most important. Narrative: The game is about the player who is the most important. Narrative: The game is about the player who is the most important. Narrative: The game is about the player who is the most important. Narrative: The game is about the player who is the most important. Narrative: The game is about the player who is the most important. Narrative: The game is about the player who is the most important. Narrative: The game is about the player who is the most important. Narrative: The game is about the player who is the most important. Narrative: The game is about the player who is the most important. Narrative: The game is about the player who is the most important. Narrative: The game is about the player who is the most important. Narrative: The game is about the player who is the most important.', 'White to move. Position is 4rrk1/p5p1/2p1q3/2bpPp2/4bQ2/1PN3P1/PB3P2/2R1R1K1 w - - 1 25. What is the best move? Narrative: The first thing I want to do is to get the best possible position. I want to get the best possible position. I want to get the best possible position. I want to get the best possible position. I want to get the best possible position. I want to get the best possible position. I want to get the best possible position. I want to get the best possible position. I want to get the best possible position. I want to get the best possible position. I want to get the best possible position. I want to get the best possible position. I want to get the best possible position. I want to get the best possible position. I want to get the best possible position. I want to get the best possible position. I want to get the best possible position. I want to get the best possible position. I want to get the best possible position. I want to get the best possible position. I want to get the best possible position. I want to get the best possible position. I want to get the best possible position. I want to get the best possible position. I want to get the best possible position. I want to get the best possible position. I want to get the best possible position. I want to get', 'White to move. Position is 1r1r2k1/1bq1bppp/pp2p3/4P3/P1nNpP2/8/1PP1BQPP/R1B2R1K w - - 2 21. What is the best move? Narrative: \"I am the one who is the one who is the one who is the one who is the one who is the one who is the one who is the one who is the one who is the one who is the one who is the one who is the one who is the one who is the one who is the one who is the one who is the one who is the one who is the one who is the one who is the one who is the one who is the one who is the one who is the one who is the one who is the one who is the one who is the one who is the one who is the one who is the one who is the one who is the one who is the one who is the one who is the one who is the one who is the one who is the one who is the one who is the one who is the one who is the one who is the one who is the one who is the one who is the one who is the one who is the one who is the one who is the one who is the one who is the one who is the one who is the one who is the one who is the one who is the one who is the one who is the one who is the one', 'White to move. Position is r2qrnk1/pp2bpp1/2p1b2p/3p3n/3P4/2NBPNBP/PPQ2PP1/1R3RK1 w - - 3 15. What is the best move? Narrative: The first thing I want to do is to get the best possible position. I want to get the best possible position. I want to get the best possible position. I want to get the best possible position. I want to get the best possible position. I want to get the best possible position. I want to get the best possible position. I want to get the best possible position. I want to get the best possible position. I want to get the best possible position. I want to get the best possible position. I want to get the best possible position. I want to get the best possible position. I want to get the best possible position. I want to get the best possible position. I want to get the best possible position. I want to get the best possible position. I want to get the best possible position. I want to get the best possible position. I want to get the best possible position. I want to get the best possible position. I want to get the best possible position. I want to get the best possible position. I want to get the best possible position. I want to get the best possible position. I want to get the best possible position. I want to get the best possible position. I want to get', 'White to move. Position is r1bq2k1/pp1n2pp/8/2ppp3/2PPP3/P1N5/1P1QB1PP/5RK1 w - - 0 18. What is the best move? Narrative: The first thing I want to do is to get the best possible position. I want to get the best possible position. I want to get the best possible position. I want to get the best possible position. I want to get the best possible position. I want to get the best possible position. I want to get the best possible position. I want to get the best possible position. I want to get the best possible position. I want to get the best possible position. I want to get the best possible position. I want to get the best possible position. I want to get the best possible position. I want to get the best possible position. I want to get the best possible position. I want to get the best possible position. I want to get the best possible position. I want to get the best possible position. I want to get the best possible position. I want to get the best possible position. I want to get the best possible position. I want to get the best possible position. I want to get the best possible position. I want to get the best possible position. I want to get the best possible position. I want to get the best possible position. I want to get the best possible position. I want to get', 'Black to move. Position is r4rk1/1pp1qpp1/p2p3p/4p2n/3PPB2/1PP2N2/2PQ1PPP/R3R1K1 b - - 0 17. What is the best move? Narrative: The game is over. The game is over. The game is over. The game is over. The game is over. The game is over. The game is over. The game is over. The game is over. The game is over. The game is over. The game is over. The game is over. The game is over. The game is over. The game is over. The game is over. The game is over. The game is over. The game is over. The game is over. The game is over. The game is over. The game is over. The game is over. The game is over. The game is over. The game is over. The game is over. The game is over. The game is over. The game is over. The game is over. The game is over. The game is over. The game is over. The game is over. The game is over. The game is over. The game is over. The game is over. The game is over. The game is over. The game is over. The game is over. The game is over. The game is over. The game is over. The game is over. The game is over. The game is', 'Black to move. Position is 5bk1/6pp/p1b1p3/B4p2/8/8/q1PQ2PP/2R4K b - - 5 31. What is the best move? Narrative: The first line of the game is the first line of the game. The second line is the second line of the game. The third line is the third line of the game. The fourth line is the fourth line of the game. The fifth line is the fifth line of the game. The sixth line is the sixth line of the game. The seventh line is the seventh line of the game. The eighth line is the eighth line of the game. The ninth line is the ninth line of the game. The tenth line is the tenth line of the game. The eleventh line is the eleventh line of the game. The twelfth line is the twelfth line of the game. The thirteenth line is the thirteenth line of the game. The thirteenth line is the thirteenth line of the game. The thirteenth line is the thirteenth line of the game. The thirteenth line is the thirteenth line of the game. The thirteenth line is the thirteenth line of the game. The thirteenth line is the thirteenth line of the game. The thirteenth line is the thirteenth line of the game. The thirteenth line is the thir', 'Black to move. Position is r1bqr1k1/pp3pbp/3p1np1/2pP4/1n2PB2/2N2N2/PP2BPPP/RQ3RK1 b - - 11 12. What is the best move? Narrative: The first thing I want to do is to get the best possible move. I want to get the best possible move. I want to get the best possible move. I want to get the best possible move. I want to get the best possible move. I want to get the best possible move. I want to get the best possible move. I want to get the best possible move. I want to get the best possible move. I want to get the best possible move. I want to get the best possible move. I want to get the best possible move. I want to get the best possible move. I want to get the best possible move. I want to get the best possible move. I want to get the best possible move. I want to get the best possible move. I want to get the best possible move. I want to get the best possible move. I want to get the best possible move. I want to get the best possible move. I want to get the best possible move. I want to get the best possible move. I want to get the best possible move. I want to get the best possible move. I want to get the best possible move. I want to get the best possible move. I want to get', \"Black to move. Position is r2q1rk1/1ppb1pp1/pbnp1n1p/4p3/2BPP2B/2PQ1N2/PP1N1PPP/R4RK1 b - - 1 11. What is the best move? Narrative: The first thing I want to do is to make sure that I'm not going to be able to do anything. I'm going to be able to do something. I'm going to be able to do something. I'm going to be able to do something. I'm going to be able to do something. I'm going to be able to do something. I'm going to be able to do something. I'm going to be able to do something. I'm going to be able to do something. I'm going to be able to do something. I'm going to be able to do something. I'm going to be able to do something. I'm going to be able to do something. I'm going to be able to do something. I'm going to be able to do something. I'm going to be able to do something. I'm going to be able to do something. I'm going to be able to do something. I'm going to be able to do something. I'm going to be able to do something. I'm going to be able to do something. I'm going to be able to do something. I'm going to be able to do something. I'm going to be able to do something.\", \"Black to move. Position is r2q1rk1/2pb2b1/3p2pp/p1pP1p2/2P1PR2/2NN4/PPQ3PP/4R1K1 b - - 0 18. What is the best move? Narrative: The first thing I want to do is to make sure that I'm not going to be able to do anything. I'm going to be able to do something. I'm going to be able to do something. I'm going to be able to do something. I'm going to be able to do something. I'm going to be able to do something. I'm going to be able to do something. I'm going to be able to do something. I'm going to be able to do something. I'm going to be able to do something. I'm going to be able to do something. I'm going to be able to do something. I'm going to be able to do something. I'm going to be able to do something. I'm going to be able to do something. I'm going to be able to do something. I'm going to be able to do something. I'm going to be able to do something. I'm going to be able to do something. I'm going to be able to do something. I'm going to be able to do something. I'm going to be able to do something. I'm going to be able to do something. I'm going to be able to do something.\", \"White to move. Position is B1b3rk/5p1p/p7/4p3/RN2Pp2/2PKbP2/1P4qP/3Q4 w - - 2 27. What is the best move? Narrative: The first thing I want to say is that I'm not sure what the game is about. I'm not sure what the game is about. I'm not sure what the game is about. I'm not sure what the game is about. I'm not sure what the game is about. I'm not sure what the game is about. I'm not sure what the game is about. I'm not sure what the game is about. I'm not sure what the game is about. I'm not sure what the game is about. I'm not sure what the game is about. I'm not sure what the game is about. I'm not sure what the game is about. I'm not sure what the game is about. I'm not sure what the game is about. I'm not sure what the game is about. I'm not sure what the game is about. I'm not sure what the game is about. I'm not sure what the game is about. I'm not sure what the game is about. I'm not sure what the game is about. I'm not sure what the game is about. I'm not sure what the game is about. I'm not sure what the game is about. I'm not sure\", 'White to move. Position is rnbqkbnr/pppppp1p/6p1/8/3P4/8/PPP1PPPP/RNBQKBNR w KQkq - 0 2. What is the best move? Narrative: \"I am the one who is the one who is the one who is the one who is the one who is the one who is the one who is the one who is the one who is the one who is the one who is the one who is the one who is the one who is the one who is the one who is the one who is the one who is the one who is the one who is the one who is the one who is the one who is the one who is the one who is the one who is the one who is the one who is the one who is the one who is the one who is the one who is the one who is the one who is the one who is the one who is the one who is the one who is the one who is the one who is the one who is the one who is the one who is the one who is the one who is the one who is the one who is the one who is the one who is the one who is the one who is the one who is the one who is the one who is the one who is the one who is the one who is the one who is the one who is the one who is the one who is the one who is the one', 'White to move. Position is r1bqk2r/ppp2ppp/2n2n2/3p4/1bBPP3/2N2N2/PP3PPP/R1BQK2R w KQkq - 0 8. What is the best move? Narrative: \"I\\'m going to go to the moon.\" Narrative: \"I\\'m going to go to the moon.\" Narrative: \"I\\'m going to go to the moon.\" Narrative: \"I\\'m going to go to the moon.\" Narrative: \"I\\'m going to go to the moon.\" Narrative: \"I\\'m going to go to the moon.\" Narrative: \"I\\'m going to go to the moon.\" Narrative: \"I\\'m going to go to the moon.\" Narrative: \"I\\'m going to go to the moon.\" Narrative: \"I\\'m going to go to the moon.\" Narrative: \"I\\'m going to go to the moon.\" Narrative: \"I\\'m going to go to the moon.\" Narrative: \"I\\'m going to go to the moon.\" Narrative: \"I\\'m going to go to the moon.\" Narrative: \"I\\'m going to go to the moon.\" Narrative: \"I\\'m going to go to the moon.\" Narrative: \"I\\'m going to go to the moon.\" Narrative: \"I\\'m going to go to the moon.\" Narrative: \"I\\'m going to go to the moon.\" Narrative: \"I\\'m going to go', 'Black to move. Position is r1bq1rk1/1p5p/2n1pbp1/p2p4/P2p1P2/1B1P4/1PPBN1PP/R3QR1K b - - 0 16. What is the best move? Narrative: The game is about the player who is the most important. The player who is the most important is the player who is the most important. Narrative: The game is about the player who is the most important. Narrative: The game is about the player who is the most important. Narrative: The game is about the player who is the most important. Narrative: The game is about the player who is the most important. Narrative: The game is about the player who is the most important. Narrative: The game is about the player who is the most important. Narrative: The game is about the player who is the most important. Narrative: The game is about the player who is the most important. Narrative: The game is about the player who is the most important. Narrative: The game is about the player who is the most important. Narrative: The game is about the player who is the most important. Narrative: The game is about the player who is the most important. Narrative: The game is about the player who is the most important. Narrative: The game is about the player who is the most important. Narrative: The game is about the player who is the most important.', 'Black to move. Position is b1q4r/3nbk2/p3p1p1/Np1pPp1p/1P1N1P2/P2PB3/4Q1PP/2R3K1 b - - 1 25. What is the best move? Narrative: The game is over. The game is over. The game is over. The game is over. The game is over. The game is over. The game is over. The game is over. The game is over. The game is over. The game is over. The game is over. The game is over. The game is over. The game is over. The game is over. The game is over. The game is over. The game is over. The game is over. The game is over. The game is over. The game is over. The game is over. The game is over. The game is over. The game is over. The game is over. The game is over. The game is over. The game is over. The game is over. The game is over. The game is over. The game is over. The game is over. The game is over. The game is over. The game is over. The game is over. The game is over. The game is over. The game is over. The game is over. The game is over. The game is over. The game is over. The game is over. The game is over. The game is over. The game is', 'Black to move. Position is R1nN1r1k/2q3pp/3p4/1p1Bpp2/4P3/2P2Q1P/1P3PP1/6K1 b - - 0 26. What is the best move? Narrative: The game is over. The game is over. The game is over. The game is over. The game is over. The game is over. The game is over. The game is over. The game is over. The game is over. The game is over. The game is over. The game is over. The game is over. The game is over. The game is over. The game is over. The game is over. The game is over. The game is over. The game is over. The game is over. The game is over. The game is over. The game is over. The game is over. The game is over. The game is over. The game is over. The game is over. The game is over. The game is over. The game is over. The game is over. The game is over. The game is over. The game is over. The game is over. The game is over. The game is over. The game is over. The game is over. The game is over. The game is over. The game is over. The game is over. The game is over. The game is over. The game is over. The game is over. The game is', 'Black to move. Position is r2qrnk1/pp2bpp1/2p1b2p/3p3n/3P4/2NBPN1P/PPQ2PPB/1R3RK1 b - - 4 15. What is the best move? Narrative: The first thing I want to do is to get the best possible position. I want to get the best possible position. I want to get the best possible position. I want to get the best possible position. I want to get the best possible position. I want to get the best possible position. I want to get the best possible position. I want to get the best possible position. I want to get the best possible position. I want to get the best possible position. I want to get the best possible position. I want to get the best possible position. I want to get the best possible position. I want to get the best possible position. I want to get the best possible position. I want to get the best possible position. I want to get the best possible position. I want to get the best possible position. I want to get the best possible position. I want to get the best possible position. I want to get the best possible position. I want to get the best possible position. I want to get the best possible position. I want to get the best possible position. I want to get the best possible position. I want to get the best possible position. I want to get the best possible position. I want to get', 'Black to move. Position is 2r3k1/pp1bppbp/q2p2p1/3Pn3/8/2BN2PP/PP1QPPB1/R5K1 b - - 2 21. What is the best move? Narrative: \"I am the one who is the one who is the one who is the one who is the one who is the one who is the one who is the one who is the one who is the one who is the one who is the one who is the one who is the one who is the one who is the one who is the one who is the one who is the one who is the one who is the one who is the one who is the one who is the one who is the one who is the one who is the one who is the one who is the one who is the one who is the one who is the one who is the one who is the one who is the one who is the one who is the one who is the one who is the one who is the one who is the one who is the one who is the one who is the one who is the one who is the one who is the one who is the one who is the one who is the one who is the one who is the one who is the one who is the one who is the one who is the one who is the one who is the one who is the one who is the one who is the one who is the one who is the one', \"White to move. Position is 2r2rk1/p3qppp/bp3n2/2bp4/8/1PN3P1/PBnNPPBP/R2QR1K1 w - - 6 16. What is the best move? Narrative: The first thing I want to do is to make sure that I'm not going to be able to do anything. I'm going to be able to do something. I'm going to be able to do something. I'm going to be able to do something. I'm going to be able to do something. I'm going to be able to do something. I'm going to be able to do something. I'm going to be able to do something. I'm going to be able to do something. I'm going to be able to do something. I'm going to be able to do something. I'm going to be able to do something. I'm going to be able to do something. I'm going to be able to do something. I'm going to be able to do something. I'm going to be able to do something. I'm going to be able to do something. I'm going to be able to do something. I'm going to be able to do something. I'm going to be able to do something. I'm going to be able to do something. I'm going to be able to do something. I'm going to be able to do something. I'm going to be able to do something.\", 'Black to move. Position is 4r1k1/p4p2/1p1q2p1/2p5/P2b3p/1P6/2Q1BPPP/5R1K b - - 1 27. What is the best move? Narrative: The game is over. The game is over. The game is over. The game is over. The game is over. The game is over. The game is over. The game is over. The game is over. The game is over. The game is over. The game is over. The game is over. The game is over. The game is over. The game is over. The game is over. The game is over. The game is over. The game is over. The game is over. The game is over. The game is over. The game is over. The game is over. The game is over. The game is over. The game is over. The game is over. The game is over. The game is over. The game is over. The game is over. The game is over. The game is over. The game is over. The game is over. The game is over. The game is over. The game is over. The game is over. The game is over. The game is over. The game is over. The game is over. The game is over. The game is over. The game is over. The game is over. The game is over. The game is', 'White to move. Position is rnbqkbnr/pp1ppppp/8/2p5/4P3/8/PPPP1PPP/RNBQKBNR w KQkq - 0 2. What is the best move? Narrative: \"I am the one who is the one who is the one who is the one who is the one who is the one who is the one who is the one who is the one who is the one who is the one who is the one who is the one who is the one who is the one who is the one who is the one who is the one who is the one who is the one who is the one who is the one who is the one who is the one who is the one who is the one who is the one who is the one who is the one who is the one who is the one who is the one who is the one who is the one who is the one who is the one who is the one who is the one who is the one who is the one who is the one who is the one who is the one who is the one who is the one who is the one who is the one who is the one who is the one who is the one who is the one who is the one who is the one who is the one who is the one who is the one who is the one who is the one who is the one who is the one who is the one who is the one who is the one', 'White to move. Position is 5rk1/1bqn2pp/p7/P1pppp2/4nP2/2P1QBN1/2P3PP/R4RK1 w - - 0 20. What is the best move? Narrative: \"I am the one who is the one who is the one who is the one who is the one who is the one who is the one who is the one who is the one who is the one who is the one who is the one who is the one who is the one who is the one who is the one who is the one who is the one who is the one who is the one who is the one who is the one who is the one who is the one who is the one who is the one who is the one who is the one who is the one who is the one who is the one who is the one who is the one who is the one who is the one who is the one who is the one who is the one who is the one who is the one who is the one who is the one who is the one who is the one who is the one who is the one who is the one who is the one who is the one who is the one who is the one who is the one who is the one who is the one who is the one who is the one who is the one who is the one who is the one who is the one who is the one who is the one who is the one', 'Black to move. Position is r1bqkb1r/1p1npppp/p2p1n2/8/3NP3/2N1B3/PPP1BPPP/R2QK2R b KQkq - 3 7. What is the best move? Narrative: The first thing I want to do is to get the best possible move. I want to get the best possible move. I want to get the best possible move. I want to get the best possible move. I want to get the best possible move. I want to get the best possible move. I want to get the best possible move. I want to get the best possible move. I want to get the best possible move. I want to get the best possible move. I want to get the best possible move. I want to get the best possible move. I want to get the best possible move. I want to get the best possible move. I want to get the best possible move. I want to get the best possible move. I want to get the best possible move. I want to get the best possible move. I want to get the best possible move. I want to get the best possible move. I want to get the best possible move. I want to get the best possible move. I want to get the best possible move. I want to get the best possible move. I want to get the best possible move. I want to get the best possible move. I want to get the best possible move. I want to get', 'Black to move. Position is r1bqr1k1/pp3ppp/2p2n2/3n4/2QN4/1N4P1/PP2PPBP/R2R2K1 b - - 3 14. What is the best move? Narrative: The first thing I want to do is to get the best possible position. I want to get the best possible position. I want to get the best possible position. I want to get the best possible position. I want to get the best possible position. I want to get the best possible position. I want to get the best possible position. I want to get the best possible position. I want to get the best possible position. I want to get the best possible position. I want to get the best possible position. I want to get the best possible position. I want to get the best possible position. I want to get the best possible position. I want to get the best possible position. I want to get the best possible position. I want to get the best possible position. I want to get the best possible position. I want to get the best possible position. I want to get the best possible position. I want to get the best possible position. I want to get the best possible position. I want to get the best possible position. I want to get the best possible position. I want to get the best possible position. I want to get the best possible position. I want to get the best possible position. I want to get', 'White to move. Position is r1bqkb1r/pp1n1ppp/2p1pn2/6N1/3P4/3B4/PPP2PPP/R1BQK1NR w KQkq - 0 7. What is the best move? Narrative: \"I\\'m going to kill you.\" Narrative: \"I\\'m going to kill you.\" Narrative: \"I\\'m going to kill you.\" Narrative: \"I\\'m going to kill you.\" Narrative: \"I\\'m going to kill you.\" Narrative: \"I\\'m going to kill you.\" Narrative: \"I\\'m going to kill you.\" Narrative: \"I\\'m going to kill you.\" Narrative: \"I\\'m going to kill you.\" Narrative: \"I\\'m going to kill you.\" Narrative: \"I\\'m going to kill you.\" Narrative: \"I\\'m going to kill you.\" Narrative: \"I\\'m going to kill you.\" Narrative: \"I\\'m going to kill you.\" Narrative: \"I\\'m going to kill you.\" Narrative: \"I\\'m going to kill you.\" Narrative: \"I\\'m going to kill you.\" Narrative: \"I\\'m going to kill you.\" Narrative: \"I\\'m going to kill you.\" Narrative: \"I\\'m going to kill you.\" Narrative: \"I\\'m going to kill you.\" Narrative: \"I\\'m going to kill you.\" Narrative: \"I\\'m going to kill you.\" Narrative:', 'Black to move. Position is 5rk1/1bq4p/p7/P1pp2p1/2n2p2/2P2B2/2P1NRPP/1Q4K1 b - - 0 26. What is the best move? Narrative: \"I am the one who is the one who is the one who is the one who is the one who is the one who is the one who is the one who is the one who is the one who is the one who is the one who is the one who is the one who is the one who is the one who is the one who is the one who is the one who is the one who is the one who is the one who is the one who is the one who is the one who is the one who is the one who is the one who is the one who is the one who is the one who is the one who is the one who is the one who is the one who is the one who is the one who is the one who is the one who is the one who is the one who is the one who is the one who is the one who is the one who is the one who is the one who is the one who is the one who is the one who is the one who is the one who is the one who is the one who is the one who is the one who is the one who is the one who is the one who is the one who is the one who is the one who is the one', 'Black to move. Position is r2qk2r/pppbbppp/2np1n2/1B6/3NP3/2N5/PPP2PPP/R1BQR1K1 b kq - 0 8. What is the best move? Narrative: The first thing I want to do is to get the best possible position. I want to get the best possible position. I want to get the best possible position. I want to get the best possible position. I want to get the best possible position. I want to get the best possible position. I want to get the best possible position. I want to get the best possible position. I want to get the best possible position. I want to get the best possible position. I want to get the best possible position. I want to get the best possible position. I want to get the best possible position. I want to get the best possible position. I want to get the best possible position. I want to get the best possible position. I want to get the best possible position. I want to get the best possible position. I want to get the best possible position. I want to get the best possible position. I want to get the best possible position. I want to get the best possible position. I want to get the best possible position. I want to get the best possible position. I want to get the best possible position. I want to get the best possible position. I want to get the best possible position. I want to get', 'Black to move. Position is rnbqkbnr/pppppppp/8/8/2P5/8/PP1PPPPP/RNBQKBNR b KQkq - 0 1. What is the best move? Narrative: \"I am the one who is the one who is the one who is the one who is the one who is the one who is the one who is the one who is the one who is the one who is the one who is the one who is the one who is the one who is the one who is the one who is the one who is the one who is the one who is the one who is the one who is the one who is the one who is the one who is the one who is the one who is the one who is the one who is the one who is the one who is the one who is the one who is the one who is the one who is the one who is the one who is the one who is the one who is the one who is the one who is the one who is the one who is the one who is the one who is the one who is the one who is the one who is the one who is the one who is the one who is the one who is the one who is the one who is the one who is the one who is the one who is the one who is the one who is the one who is the one who is the one who is the one who is the one', \"Black to move. Position is 1kr3r1/pp1b4/4p3/3PPnn1/2P2N1q/7P/4QPP1/R1BR3K b - - 2 31. What is the best move? Narrative: The first thing I want to say is that I'm not sure if I'm going to be able to do this. I'm not sure if I'm going to be able to do this. I'm not sure if I'm going to be able to do this. I'm not sure if I'm going to be able to do this. I'm not sure if I'm going to be able to do this. I'm not sure if I'm going to be able to do this. I'm not sure if I'm going to be able to do this. I'm not sure if I'm going to be able to do this. I'm not sure if I'm going to be able to do this. I'm not sure if I'm going to be able to do this. I'm not sure if I'm going to be able to do this. I'm not sure if I'm going to be able to do this. I'm not sure if I'm going to be able to do this. I'm not sure if I'm going to be able to do this. I'm not sure if I'm going to be able to do this. I'm not sure if I'm going to be able to do this. I'm not sure\", 'White to move. Position is 1rq2rk1/4np1p/p2p4/3P1p1Q/4p3/2b2P2/P1B3PP/1N2RR1K w - - 0 22. What is the best move? Narrative: The first thing I want to do is to get the best possible position. I want to get the best possible position. I want to get the best possible position. I want to get the best possible position. I want to get the best possible position. I want to get the best possible position. I want to get the best possible position. I want to get the best possible position. I want to get the best possible position. I want to get the best possible position. I want to get the best possible position. I want to get the best possible position. I want to get the best possible position. I want to get the best possible position. I want to get the best possible position. I want to get the best possible position. I want to get the best possible position. I want to get the best possible position. I want to get the best possible position. I want to get the best possible position. I want to get the best possible position. I want to get the best possible position. I want to get the best possible position. I want to get the best possible position. I want to get the best possible position. I want to get the best possible position. I want to get the best possible position. I want to get', 'Black to move. Position is 1R6/4r3/8/4pB2/8/1K3k2/1P6/8 b - - 0 54. What is the best move? Lastly, I will try to answer your question.\\n\\nReply · Report Post', 'Black to move. Position is R7/p4kB1/1p4r1/2pp4/7P/P2P4/5PP1/5K2 b - - 0 37. What is the best move? Lastly, I will try to answer the question \"What is the best move?\"\\n\\nI will try to answer the question \"What is the best move?\"\\n\\nI will try to answer the question \"What is the best move?\"\\n\\nI will try to answer the question \"What is the best move?\"\\n\\nI will try to answer the question \"What is the best move?\"\\n\\nI will try to answer the question \"What is the best move?\"\\n\\nI will try to answer the question \"What is the best move?\"\\n\\nI will try to answer the question \"What is the best move?\"\\n\\nI will try to answer the question \"What is the best move?\"\\n\\nI will try to answer the question \"What is the best move?\"\\n\\nI will try to answer the question \"What is the best move?\"\\n\\nI will try to answer the question \"What is the best move?\"\\n\\nI will try to answer the question \"What is the best move?\"\\n\\nI will try to answer the question \"What is the best move?\"\\n\\nI will try to answer the question \"What is the best move?\"\\n\\nI will try to answer the question \"What is the best move?\"', 'White to move. Position is r1bqk2r/pp1n1ppp/2pbpn2/6N1/3P4/3B1N2/PPP2PPP/R1BQK2R w KQkq - 2 8. What is the best move? Narrative: \"I am the one who is the one who is the one who is the one who is the one who is the one who is the one who is the one who is the one who is the one who is the one who is the one who is the one who is the one who is the one who is the one who is the one who is the one who is the one who is the one who is the one who is the one who is the one who is the one who is the one who is the one who is the one who is the one who is the one who is the one who is the one who is the one who is the one who is the one who is the one who is the one who is the one who is the one who is the one who is the one who is the one who is the one who is the one who is the one who is the one who is the one who is the one who is the one who is the one who is the one who is the one who is the one who is the one who is the one who is the one who is the one who is the one who is the one who is the one who is the one who is the one who is the one who is the one', \"White to move. Position is 5qk1/pN4pp/2p2n2/4bp1b/1QP1p3/P2rB2P/1P3PP1/R3R1K1 w - - 0 26. What is the best move? Narrative: The first thing I want to say is that I'm not sure if I'm going to be able to do this. I'm not sure if I'm going to be able to do this. I'm not sure if I'm going to be able to do this. I'm not sure if I'm going to be able to do this. I'm not sure if I'm going to be able to do this. I'm not sure if I'm going to be able to do this. I'm not sure if I'm going to be able to do this. I'm not sure if I'm going to be able to do this. I'm not sure if I'm going to be able to do this. I'm not sure if I'm going to be able to do this. I'm not sure if I'm going to be able to do this. I'm not sure if I'm going to be able to do this. I'm not sure if I'm going to be able to do this. I'm not sure if I'm going to be able to do this. I'm not sure if I'm going to be able to do this. I'm not sure if I'm going to be able to do this. I'm not sure\", 'Black to move. Position is 8/pb3k1p/1p3p1B/2p1n3/5QPP/1P2Nq2/P4P1K/8 b - - 4 39. What is the best move? Narrative: The first line of the game is the first line of the game. The second line is the second line of the game. The third line is the third line of the game. The fourth line is the fourth line of the game. The fifth line is the fifth line of the game. The sixth line is the sixth line of the game. The seventh line is the seventh line of the game. The eighth line is the eighth line of the game. The ninth line is the ninth line of the game. The tenth line is the tenth line of the game. The eleventh line is the eleventh line of the game. The twelfth line is the twelfth line of the game. The thirteenth line is the thirteenth line of the game. The thirteenth line is the thirteenth line of the game. The thirteenth line is the thirteenth line of the game. The thirteenth line is the thirteenth line of the game. The thirteenth line is the thirteenth line of the game. The thirteenth line is the thirteenth line of the game. The thirteenth line is the thirteenth line of the game. The thirteenth line is the thir', 'Black to move. Position is rn1qkb1r/pbp2ppp/1p2pn2/3p2B1/2PP4/P1N2N2/1P2PPPP/R2QKB1R b KQkq - 1 6. What is the best move? Narrative: The first thing I want to do is to get the best possible move. I want to get the best possible move. I want to get the best possible move. I want to get the best possible move. I want to get the best possible move. I want to get the best possible move. I want to get the best possible move. I want to get the best possible move. I want to get the best possible move. I want to get the best possible move. I want to get the best possible move. I want to get the best possible move. I want to get the best possible move. I want to get the best possible move. I want to get the best possible move. I want to get the best possible move. I want to get the best possible move. I want to get the best possible move. I want to get the best possible move. I want to get the best possible move. I want to get the best possible move. I want to get the best possible move. I want to get the best possible move. I want to get the best possible move. I want to get the best possible move. I want to get the best possible move. I want to get the best possible move. I want to get', 'White to move. Position is r1b1k2r/4bpp1/p2ppn1p/qp6/3BP3/P1N2P2/1PPQ2PP/2KR1B1R w kq - 1 13. What is the best move? Narrative: The first thing I want to do is to get the best possible position. I want to get the best possible position. I want to get the best possible position. I want to get the best possible position. I want to get the best possible position. I want to get the best possible position. I want to get the best possible position. I want to get the best possible position. I want to get the best possible position. I want to get the best possible position. I want to get the best possible position. I want to get the best possible position. I want to get the best possible position. I want to get the best possible position. I want to get the best possible position. I want to get the best possible position. I want to get the best possible position. I want to get the best possible position. I want to get the best possible position. I want to get the best possible position. I want to get the best possible position. I want to get the best possible position. I want to get the best possible position. I want to get the best possible position. I want to get the best possible position. I want to get the best possible position. I want to get the best possible position. I want to get', 'Black to move. Position is 8/7p/6pk/3Q4/2P1P3/4bq2/8/4K3 b - - 0 47. What is the best move? Lastly, I will try to find out what the best move is. I will try to find out what the best move is. I will try to find out what the best move is. I will try to find out what the best move is. I will try to find out what the best move is. I will try to find out what the best move is. I will try to find out what the best move is. I will try to find out what the best move is. I will try to find out what the best move is. I will try to find out what the best move is. I will try to find out what the best move is. I will try to find out what the best move is. I will try to find out what the best move is. I will try to find out what the best move is. I will try to find out what the best move is. I will try to find out what the best move is. I will try to find out what the best move is. I will try to find out what the best move is. I will try to find out what the best move is. I will try to find out what the best move is. I will try to find out what the best move is. I will']\n"
          ]
        },
        {
          "output_type": "stream",
          "name": "stderr",
          "text": [
            "/usr/local/lib/python3.10/dist-packages/peft/utils/save_and_load.py:260: UserWarning: Setting `save_embedding_layers` to `True` as the embedding layer has been resized during finetuning.\n",
            "  warnings.warn(\n"
          ]
        },
        {
          "output_type": "stream",
          "name": "stdout",
          "text": [
            "Model and tokenizer saved to openai-community/gpt2_saved\n"
          ]
        }
      ]
    },
    {
      "cell_type": "code",
      "source": [
        "# Evaluate\n",
        "model.eval()\n",
        "predictions_text = []\n",
        "for batch in eval_dataloader:\n",
        "    batch = {k: v.to(device) for k, v in batch.items()}\n",
        "    with torch.no_grad():\n",
        "        outputs = model(**batch)\n",
        "        loss = outputs.loss\n",
        "        print(f\"Loss: {loss.item()}\")\n",
        "\n",
        "    generated_ids = model.generate(input_ids=batch[\"input_ids\"], max_length=512)\n",
        "\n",
        "    decoded_preds = tokenizer.batch_decode(generated_ids, skip_special_tokens=True)\n",
        "    predictions_text.extend(decoded_preds)\n",
        "\n",
        "print(len(predictions_text))\n",
        "print(predictions_text)\n"
      ],
      "metadata": {
        "id": "rJDbzwrCPoSc"
      },
      "execution_count": null,
      "outputs": []
    },
    {
      "cell_type": "code",
      "source": [
        "model.save_pretrained(model_dir)  # Save model\n",
        "tokenizer.save_pretrained(model_dir)  # Save tokenizer\n",
        "\n",
        "print(f\"Model and tokenizer saved to {model_dir}\")\n"
      ],
      "metadata": {
        "id": "p-bCNyUHPqdV"
      },
      "execution_count": null,
      "outputs": []
    },
    {
      "cell_type": "code",
      "source": [
        "torch.cuda.empty_cache()"
      ],
      "metadata": {
        "id": "7OlULSEQX5Nw"
      },
      "execution_count": null,
      "outputs": []
    },
    {
      "cell_type": "code",
      "source": [],
      "metadata": {
        "id": "JZcMqFzKr-hd"
      },
      "execution_count": null,
      "outputs": []
    }
  ]
}