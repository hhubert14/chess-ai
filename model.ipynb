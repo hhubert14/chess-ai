{
 "cells": [
  {
   "cell_type": "markdown",
   "metadata": {},
   "source": [
    "# Imports"
   ]
  },
  {
   "cell_type": "code",
   "execution_count": 1,
   "metadata": {},
   "outputs": [
    {
     "name": "stderr",
     "output_type": "stream",
     "text": [
      "c:\\Users\\huang\\repos\\Personal\\chess-ai\\venv\\Lib\\site-packages\\tqdm\\auto.py:21: TqdmWarning: IProgress not found. Please update jupyter and ipywidgets. See https://ipywidgets.readthedocs.io/en/stable/user_install.html\n",
      "  from .autonotebook import tqdm as notebook_tqdm\n"
     ]
    }
   ],
   "source": [
    "from transformers import AutoTokenizer, AutoModelForCausalLM, DataCollatorWithPadding, get_scheduler\n",
    "from datasets import load_dataset\n",
    "from torch.utils.data import DataLoader\n",
    "from torch.optim import AdamW\n",
    "from accelerate.test_utils.testing import get_backend\n",
    "from tqdm.auto import tqdm\n",
    "from peft import LoftQConfig, LoraConfig, get_peft_model\n",
    "from peft import get_peft_model, LoraConfig, TaskType, prepare_model_for_kbit_training\n",
    "import torch"
   ]
  },
  {
   "cell_type": "code",
   "execution_count": null,
   "metadata": {
    "vscode": {
     "languageId": "shellscript"
    }
   },
   "outputs": [],
   "source": [
    "!huggingface-cli login"
   ]
  },
  {
   "cell_type": "markdown",
   "metadata": {},
   "source": [
    "# Adjustable Parameters"
   ]
  },
  {
   "cell_type": "code",
   "execution_count": null,
   "metadata": {},
   "outputs": [],
   "source": [
    "# Adjustable variables\n",
    "model_name = \"google/gemma-2-2b\"\n",
    "batch_size = 1\n",
    "train_dataset_path = \"/content/train_dataset.csv\"\n",
    "test_dataset_path = \"/content/test_dataset.csv\"\n",
    "num_epochs = 10\n",
    "learning_rate = 1e-5\n",
    "model_dir = f\"{model_name}_saved\""
   ]
  },
  {
   "cell_type": "markdown",
   "metadata": {},
   "source": [
    "# Load Model and Tokenizer"
   ]
  },
  {
   "cell_type": "code",
   "execution_count": null,
   "metadata": {},
   "outputs": [],
   "source": [
    "tokenizer = AutoTokenizer.from_pretrained(model_name)\n",
    "model = AutoModelForCausalLM.from_pretrained(model_name)"
   ]
  },
  {
   "cell_type": "markdown",
   "metadata": {},
   "source": [
    "# Lora"
   ]
  },
  {
   "cell_type": "code",
   "execution_count": null,
   "metadata": {},
   "outputs": [],
   "source": [
    "peft_config = LoraConfig(inference_mode=False, r=8, lora_alpha=32, lora_dropout=0.1, peft_type=TaskType.CAUSAL_LM)\n",
    "model = get_peft_model(model, peft_config)\n",
    "print(model.print_trainable_parameters())"
   ]
  },
  {
   "cell_type": "code",
   "execution_count": null,
   "metadata": {},
   "outputs": [],
   "source": [
    "# Load datasets in streaming mode\n",
    "train_dataset = load_dataset(\"csv\", data_files={\"full\": train_dataset_path}, streaming=True)[\"full\"]\n",
    "eval_dataset = load_dataset(\"csv\", data_files={\"full\": test_dataset_path}, streaming=True)[\"full\"]"
   ]
  },
  {
   "cell_type": "code",
   "execution_count": null,
   "metadata": {},
   "outputs": [],
   "source": [
    "# Tokenize dynamically using a collate function\n",
    "tokenizer.add_special_tokens({'pad_token': '[PAD]'})\n",
    "model.resize_token_embeddings(len(tokenizer))\n",
    "tokenizer.pad_token_id = tokenizer.pad_token_id  # Ensure tokenizer uses the same pad token for labels\n",
    "tokenizer.label_pad_token_id = tokenizer.pad_token_id"
   ]
  },
  {
   "cell_type": "code",
   "execution_count": null,
   "metadata": {},
   "outputs": [],
   "source": [
    "def tokenize_batch(batch):\n",
    "    inputs_text = [example[\"inputs\"] for example in batch]\n",
    "    labels_text = [example[\"label\"] for example in batch]\n",
    "\n",
    "    # inputs = tokenizer(inputs_text, truncation=True, padding=True, max_length=512, return_tensors=\"pt\")\n",
    "    # labels = tokenizer(labels_text, truncation=True, padding=True, max_length=512, return_tensors=\"pt\")\n",
    "    inputs = tokenizer(\n",
    "        inputs_text,\n",
    "        truncation=False,\n",
    "        padding=True,\n",
    "        # max_length=256,\n",
    "        return_tensors=\"pt\",\n",
    "        add_special_tokens=True,\n",
    "        )\n",
    "    labels = tokenizer(\n",
    "        labels_text,\n",
    "        truncation=False,\n",
    "        padding=True,\n",
    "        # max_length=256,\n",
    "        return_tensors=\"pt\",\n",
    "        add_special_tokens=True,\n",
    "        )\n",
    "\n",
    "    # Replace pad token in labels with -100 to ignore during loss computation\n",
    "    labels[\"input_ids\"][labels[\"input_ids\"] == tokenizer.pad_token_id] = -100\n",
    "    inputs[\"labels\"] = labels[\"input_ids\"]\n",
    "    return inputs"
   ]
  },
  {
   "cell_type": "code",
   "execution_count": null,
   "metadata": {},
   "outputs": [],
   "source": [
    "# DataLoaders\n",
    "train_dataloader = DataLoader(train_dataset, batch_size=batch_size, collate_fn=tokenize_batch)\n",
    "eval_dataloader = DataLoader(eval_dataset, batch_size=batch_size, collate_fn=tokenize_batch)\n",
    "\n",
    "optimizer = AdamW(model.parameters(), lr=learning_rate)\n",
    "\n",
    "# Scheduler (num_training_steps calculated dynamically)\n",
    "lr_scheduler = get_scheduler(\n",
    "    name=\"linear\", optimizer=optimizer, num_warmup_steps=0, num_training_steps=1  # Placeholder\n",
    ")\n",
    "\n",
    "# Device setup\n",
    "device, _, _ = get_backend()\n",
    "print(f\"Using device: {device}\")\n",
    "model.to(device)"
   ]
  },
  {
   "cell_type": "code",
   "execution_count": null,
   "metadata": {},
   "outputs": [],
   "source": [
    "# Train\n",
    "progress_bar = tqdm(total=None)  # Dynamic progress bar\n",
    "model.train()\n",
    "step_count = 0  # Manually count steps\n",
    "\n",
    "for epoch in range(num_epochs):\n",
    "    print(f\"Epoch: {epoch + 1}/{num_epochs}\")\n",
    "    for batch in train_dataloader:\n",
    "        batch = {k: v.to(device) for k, v in batch.items()}\n",
    "\n",
    "        outputs = model(**batch)\n",
    "        loss = outputs.loss\n",
    "        loss.backward()\n",
    "\n",
    "        optimizer.step()\n",
    "        lr_scheduler.step()\n",
    "        optimizer.zero_grad()\n",
    "        progress_bar.update(1)\n",
    "\n",
    "        step_count += 1  # Increment step count\n",
    "\n",
    "progress_bar.close()\n",
    "\n",
    "# Update lr_scheduler with actual training steps\n",
    "lr_scheduler = get_scheduler(\n",
    "    name=\"linear\", optimizer=optimizer, num_warmup_steps=0, num_training_steps=step_count\n",
    ")"
   ]
  },
  {
   "cell_type": "code",
   "execution_count": null,
   "metadata": {},
   "outputs": [],
   "source": [
    "# Evaluate\n",
    "model.eval()\n",
    "predictions_text = []\n",
    "for batch in eval_dataloader:\n",
    "    print(\"Input shape:\", batch[\"input_ids\"].shape)\n",
    "    print(\"Labels shape:\", batch[\"labels\"].shape)\n",
    "    batch = {k: v.to(device) for k, v in batch.items()}\n",
    "    with torch.no_grad():\n",
    "        outputs = model(**batch)\n",
    "\n",
    "    # Use model.generate for predicti   ons\n",
    "    generated_ids = model.generate(input_ids=batch[\"input_ids\"], max_length=512)\n",
    "    # generated_ids = model.generate(input_ids=batch[\"input_ids\"])\n",
    "\n",
    "    decoded_preds = tokenizer.batch_decode(generated_ids, skip_special_tokens=True)\n",
    "    predictions_text.extend(decoded_preds)\n",
    "\n",
    "print(len(predictions_text))\n",
    "print(predictions_text)"
   ]
  },
  {
   "cell_type": "code",
   "execution_count": null,
   "metadata": {},
   "outputs": [],
   "source": [
    "model.save_pretrained(model_dir)  # Save model\n",
    "tokenizer.save_pretrained(model_dir)  # Save tokenizer\n",
    "\n",
    "print(f\"Model and tokenizer saved to {model_dir}\")"
   ]
  }
 ],
 "metadata": {
  "kernelspec": {
   "display_name": "venv",
   "language": "python",
   "name": "python3"
  },
  "language_info": {
   "codemirror_mode": {
    "name": "ipython",
    "version": 3
   },
   "file_extension": ".py",
   "mimetype": "text/x-python",
   "name": "python",
   "nbconvert_exporter": "python",
   "pygments_lexer": "ipython3",
   "version": "3.11.3"
  }
 },
 "nbformat": 4,
 "nbformat_minor": 2
}
